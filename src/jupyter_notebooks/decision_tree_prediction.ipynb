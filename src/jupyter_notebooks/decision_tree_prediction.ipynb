{
 "cells": [
  {
   "cell_type": "code",
   "execution_count": null,
   "metadata": {
    "collapsed": true
   },
   "outputs": [],
   "source": [
    "import pandas as pd\n",
    "import os\n",
    "import pydotplus\n",
    "from sklearn.preprocessing import LabelEncoder\n",
    "from sklearn.model_selection import train_test_split\n",
    "from sklearn.tree import DecisionTreeRegressor, DecisionTreeClassifier, export_graphviz\n",
    "from sklearn.metrics import confusion_matrix, classification_report\n",
    "import graphviz"
   ]
  },
  {
   "cell_type": "code",
   "execution_count": null,
   "metadata": {},
   "outputs": [],
   "source": [
    "# Load & read data\n",
    "path_file = os.path.join(\"dataset\", \"parametrat_ajri_dataset_excel.xlsx\")\n",
    "\n",
    "dataset = pd.read_excel(path_file)\n",
    "X=dataset.iloc[:, 0:5].values\n",
    "y = dataset.iloc[:, 5].values \n"
   ]
  },
  {
   "cell_type": "code",
   "execution_count": null,
   "metadata": {},
   "outputs": [],
   "source": [
    "# Data pre-processing\n",
    "print(dataset.isnull().sum()) # show number of missing values for each column\n",
    "\n",
    "# Data pre-processing\n",
    "# encode string to int\n",
    "labelencoder_X=LabelEncoder()\n",
    "X[:, 0]=labelencoder_X.fit_transform(X[:, 0])\n",
    "labelencoder_X=LabelEncoder() \n",
    "X[:, 1]=labelencoder_X.fit_transform(X[:, 1])\n",
    "labelencoder_X=LabelEncoder()\n",
    "X[:, 2]=labelencoder_X.fit_transform(X[:, 2])\n",
    "labelencoder_X=LabelEncoder()\n",
    "X[:, 2]=labelencoder_X.fit_transform(X[:, 3])\n",
    "labelencoder_X=LabelEncoder()\n",
    "X[:, 2]=labelencoder_X.fit_transform(X[:, 4])\n",
    "\n",
    "labelencoder_y=LabelEncoder() \n",
    "y=labelencoder_y.fit_transform(y)"
   ]
  },
  {
   "cell_type": "code",
   "execution_count": null,
   "metadata": {},
   "outputs": [],
   "source": [
    "# Model training\n",
    "X_train, X_test, y_train, y_test = train_test_split(X, y, test_size = 0.25, random_state = 42)\n",
    "\n",
    "# Fitting classifier to the Training set\n",
    "model = DecisionTreeClassifier(criterion=\"entropy\")\n",
    "model = DecisionTreeRegressor()\n",
    "model.fit(X_train,y_train)"
   ]
  },
  {
   "cell_type": "code",
   "execution_count": null,
   "metadata": {},
   "outputs": [],
   "source": [
    "# Prediction\n",
    "y_pred = model.predict(X_test)\n",
    "\n",
    "# Confusion Matrix\n",
    "cm = confusion_matrix(y_test, y_pred)"
   ]
  },
  {
   "cell_type": "code",
   "execution_count": null,
   "metadata": {},
   "outputs": [],
   "source": [
    "# Visualize results\n",
    "with open(\"decision_tree.txt\", \"w\") as f:\n",
    "    f = export_graphviz(model, out_file=f)\n",
    "\n",
    "def visualize_tree(tree, feature_names):\n",
    "    \"\"\"Create tree png using graphviz.\n",
    "\n",
    "    Args\n",
    "    ----\n",
    "    tree -- scikit-learn DecsisionTree.\n",
    "    feature_names -- list of feature names from X array\n",
    "    \"\"\"\n",
    "    with open(\"dt.dot\", 'w') as f:\n",
    "        export_graphviz(tree, out_file=f,\n",
    "                        feature_names=feature_names)\n",
    "\n",
    "    command = [\"dot\", \"-Tpng\", \"decision_tree.dot\", \"-o\", \"decision_tree.png\"]\n",
    "\n",
    "visualize_tree(model,[\"pm2_5\",\"pm10\",\"temp\", \"trysnia\", \"lageshtira\"])\n",
    "\n",
    "print('Confusion matrix: ')\n",
    "print(cm)\n",
    "print('Accuracy of decision tree classifier on test set: {:.2f}'.format(model.score(X_test, y_test)))\n",
    "\n",
    "print(classification_report(y_test, y_pred))\n",
    "\n",
    "# decision tree - format png\n",
    "\n",
    "feature_names = [\"pm2_5\",\"pm10\",\"temp\", \"trysnia\", \"lageshtira\"]\n",
    "export_graphviz(model, out_file=\"dt.dot\", feature_names=feature_names)\n",
    "\n",
    "with open(\"dt.dot\") as f:\n",
    "    dot_graph = f.read()\n",
    "\n",
    "graphviz.Source(dot_graph)\n",
    "graph = pydotplus.graph_from_dot_data(dot_graph)\n",
    "graph.write_png('decision_tree.png')"
   ]
  }
 ],
 "metadata": {
  "kernelspec": {
   "display_name": "Python 2",
   "language": "python",
   "name": "python2"
  },
  "language_info": {
   "codemirror_mode": {
    "name": "ipython",
    "version": 2
   },
   "file_extension": ".py",
   "mimetype": "text/x-python",
   "name": "python",
   "nbconvert_exporter": "python",
   "pygments_lexer": "ipython2",
   "version": "2.7.6"
  }
 },
 "nbformat": 4,
 "nbformat_minor": 0
}
