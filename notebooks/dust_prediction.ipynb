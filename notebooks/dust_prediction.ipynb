{
 "cells": [
  {
   "cell_type": "code",
   "execution_count": null,
   "metadata": {
    "collapsed": true
   },
   "outputs": [],
   "source": [
    "import pandas as pd\n",
    "from sklearn.ensemble import RandomForestRegressor\n",
    "from sklearn.model_selection import train_test_split\n",
    "from sklearn.metrics import mean_absolute_error, mean_squared_error, r2_score\n",
    "import matplotlib.pyplot as plt\n",
    "import os"
   ]
  },
  {
   "cell_type": "code",
   "execution_count": null,
   "metadata": {},
   "outputs": [],
   "source": [
    "# Load the dataset\n",
    "path_file = os.path.join(\"dataset\", \"matje.csv\")\n",
    "df = pd.read_csv(path_file)\n"
   ]
  },
  {
   "cell_type": "code",
   "execution_count": null,
   "metadata": {},
   "outputs": [],
   "source": [
    "# Load preprocessed data\n",
    "# Convert the 'created_at' column to datetime and extract relevant time features\n",
    "df['created_at'] = pd.to_datetime(df['created_at'])\n",
    "df['hour'] = df['created_at'].dt.hour\n",
    "df['day_of_week'] = df['created_at'].dt.dayofweek\n",
    "\n",
    "# Select features for regression; exclude 'pm10' if predicting 'pm2_5' and vice versa\n",
    "features = ['temp', 'trysnia', 'lageshtira', 'hour', 'day_of_week']\n",
    "X = df[features]\n",
    "y = df['pm10']  # Change this to 'pm10' if predicting 'pm10'\n",
    "# Split the dataset into training and testing sets\n",
    "X_train, X_test, y_train, y_test = train_test_split(X, y, test_size=0.3, random_state=42)\n"
   ]
  },
  {
   "cell_type": "code",
   "execution_count": null,
   "metadata": {},
   "outputs": [],
   "source": [
    "# Initialize the RandomForestRegressor\n",
    "regressor = RandomForestRegressor(n_estimators=100, random_state=42)\n",
    "\n",
    "# Train the regressor\n",
    "regressor.fit(X_train, y_train)\n"
   ]
  },
  {
   "cell_type": "code",
   "execution_count": null,
   "metadata": {},
   "outputs": [],
   "source": [
    "# Predict on the test set\n",
    "y_pred = regressor.predict(X_test)\n",
    "\n",
    "# Evaluate the regressor\n",
    "mae = mean_absolute_error(y_test, y_pred)\n",
    "mse = mean_squared_error(y_test, y_pred)\n",
    "r2 = r2_score(y_test, y_pred)\n",
    "\n",
    "print(\"Mean Absolute Error (MAE):\", mae)\n",
    "print(\"Mean Squared Error (MSE):\", mse)\n",
    "print(\"R-squared (R2):\", r2)"
   ]
  },
  {
   "cell_type": "code",
   "execution_count": null,
   "metadata": {},
   "outputs": [],
   "source": [
    "# Visualize the actual vs predicted values\n",
    "plt.figure(figsize=(14, 7))\n",
    "\n",
    "# Scatter plot for actual vs predicted values\n",
    "plt.subplot(1, 2, 1)\n",
    "plt.scatter(y_test, y_pred, alpha=0.6)\n",
    "plt.xlabel('Actual pm2_5 levels')\n",
    "plt.ylabel('Predicted pm2_5 levels')\n",
    "plt.title('Actual vs Predicted pm2_5 Levels')\n",
    "plt.plot([y.min(), y.max()], [y.min(), y.max()], 'k--', lw=4)  # Diagonal line\n",
    "\n",
    "# Line plot for actual vs predicted values over the test dataset\n",
    "plt.subplot(1, 2, 2)\n",
    "plt.plot(y_test.reset_index(drop=True), label='Actual pm2_5 levels')\n",
    "plt.plot(pd.Series(y_pred, index=y_test.index).reset_index(drop=True), label='Predicted pm2_5 levels', alpha=0.7)\n",
    "plt.xlabel('Test sample index')\n",
    "plt.ylabel('pm2_5 level')\n",
    "plt.title('Line Plot of Actual vs Predicted pm2_5 Levels')\n",
    "plt.legend()\n",
    "\n",
    "plt.tight_layout()\n",
    "plt.show()\n"
   ]
  }
 ],
 "metadata": {
  "kernelspec": {
   "display_name": "Python 2",
   "language": "python",
   "name": "python2"
  },
  "language_info": {
   "codemirror_mode": {
    "name": "ipython",
    "version": 2
   },
   "file_extension": ".py",
   "mimetype": "text/x-python",
   "name": "python",
   "nbconvert_exporter": "python",
   "pygments_lexer": "ipython2",
   "version": "2.7.6"
  }
 },
 "nbformat": 4,
 "nbformat_minor": 0
}
